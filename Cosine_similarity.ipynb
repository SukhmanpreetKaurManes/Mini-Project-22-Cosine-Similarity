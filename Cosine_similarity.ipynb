{
  "nbformat": 4,
  "nbformat_minor": 0,
  "metadata": {
    "colab": {
      "provenance": [],
      "authorship_tag": "ABX9TyMr8hFnfJdMuloTbwW900s6",
      "include_colab_link": true
    },
    "kernelspec": {
      "name": "python3",
      "display_name": "Python 3"
    },
    "language_info": {
      "name": "python"
    }
  },
  "cells": [
    {
      "cell_type": "markdown",
      "metadata": {
        "id": "view-in-github",
        "colab_type": "text"
      },
      "source": [
        "<a href=\"https://colab.research.google.com/github/SukhmanpreetKaurManes/Mini-Project-22-Cosine-Similarity/blob/main/Cosine_similarity.ipynb\" target=\"_parent\"><img src=\"https://colab.research.google.com/assets/colab-badge.svg\" alt=\"Open In Colab\"/></a>"
      ]
    },
    {
      "cell_type": "code",
      "execution_count": 2,
      "metadata": {
        "id": "9lMQKG3GWf2a"
      },
      "outputs": [],
      "source": [
        "from sklearn.feature_extraction.text import TfidfVectorizer\n",
        "from sklearn.metrics.pairwise import cosine_similarity"
      ]
    },
    {
      "cell_type": "code",
      "source": [
        "def vectorize(Text):\n",
        "  return TfidfVectorizer().fit_transform(Text).toarray()"
      ],
      "metadata": {
        "id": "zOm8Y3_nZGE6"
      },
      "execution_count": 3,
      "outputs": []
    },
    {
      "cell_type": "code",
      "source": [
        "def similarity(a,b):\n",
        "  return cosine_similarity(a,b)"
      ],
      "metadata": {
        "id": "_mMaq9bRZVwE"
      },
      "execution_count": 12,
      "outputs": []
    },
    {
      "cell_type": "code",
      "metadata": {
        "colab": {
          "base_uri": "https://localhost:8080/"
        },
        "id": "c1e25b79",
        "outputId": "af7c8641-9773-4da6-f433-ed1b92b85355"
      },
      "source": [
        "text = [\"deep learning\", \"machine learning\"]\n",
        "vectors = vectorize(text)\n",
        "\n",
        "cosine = similarity([vectors[0]],[ vectors[1]])[0][0]\n",
        "\n",
        "print(f\"Cosine similarity between 'deep learning' and 'machine learning': {cosine}\")"
      ],
      "execution_count": 18,
      "outputs": [
        {
          "output_type": "stream",
          "name": "stdout",
          "text": [
            "Cosine similarity between 'deep learning' and 'machine learning': 0.33609692727625756\n"
          ]
        }
      ]
    }
  ]
}